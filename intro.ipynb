{
 "cells": [
  {
   "cell_type": "code",
   "execution_count": 3,
   "metadata": {},
   "outputs": [],
   "source": [
    "import numpy as np\n"
   ]
  },
  {
   "cell_type": "code",
   "execution_count": 2,
   "metadata": {},
   "outputs": [
    {
     "name": "stdout",
     "output_type": "stream",
     "text": [
      "1500\n"
     ]
    }
   ],
   "source": [
    "n = 100\n",
    "m = 15\n",
    "print(n * m)"
   ]
  },
  {
   "cell_type": "markdown",
   "metadata": {},
   "source": [
    "## Data Types"
   ]
  },
  {
   "cell_type": "code",
   "execution_count": 2,
   "metadata": {},
   "outputs": [
    {
     "name": "stdout",
     "output_type": "stream",
     "text": [
      "<class 'int'>\n"
     ]
    }
   ],
   "source": [
    "#Classification of data being stored and tells what operations can be perfomed on the data\n",
    "#Numeric type - Int, float, complex\n",
    "#Int - whole numbers either positive or negative\n",
    "print(type(20))\n",
    "#float - decimals\n",
    "# complex - for imaginary numbers\n",
    "#Boolean - has 2 built in values, either True or False\n",
    "#Strings - characters enclosed in quotes where multiline string use tripple quotes\n"
   ]
  },
  {
   "cell_type": "markdown",
   "metadata": {},
   "source": [
    "## Lists"
   ]
  },
  {
   "cell_type": "code",
   "execution_count": 18,
   "metadata": {},
   "outputs": [
    {
     "name": "stdout",
     "output_type": "stream",
     "text": [
      "6\n",
      "<class 'list'>\n",
      "banana\n",
      "['cherry', 'orange', 'kiwi']\n",
      "['cherry', 'orange', 'kiwi']\n",
      "['apple', 'blackcurrant', 'watermelon', 'orange', 'kiwi', 'melon']\n",
      "['apple', 'blackcurrant', 'waterm', 'watermelon', 'orange', 'kiwi', 'melon']\n",
      "['apple', 'blackcurrant', 'waterm', 'watermelon', 'orange', 'kiwi', 'melon', 'orange']\n",
      "['apple', 'blackcurrant', 'waterm', 'watermelon', 'orange', 'kiwi', 'melon', 'orange', 'papaya', 'pineapple']\n"
     ]
    }
   ],
   "source": [
    "# Store multiple items in a single variable,Use bracket notation ie [1,2,3]\n",
    "#List items are ordered, changeable and allow duplicate values\n",
    "thislist = [\"apple\", \"banana\", \"cherry\", \"orange\", \"kiwi\", \"melon\"]\n",
    "print(len(thislist)) #length of the list\n",
    "print(type(thislist))\n",
    "print(thislist[1]) #index\n",
    "print(thislist[2:5]) #Range of indexes\n",
    "print(thislist[-4:-1]) #negative indexes\n",
    "\n",
    "#To check if an item exists, use the \"in\" keyword\n",
    "\"apple\" in  thislist #returns a boolean value\n",
    "thislist[2] = \"pawpaw\" #change item value\n",
    "thislist[1:3] = [\"blackcurrant\", \"watermelon\"] #changing a range of item values\n",
    "print(thislist)\n",
    "\n",
    "thislist.insert(2, \"waterm\") #using insert(method) to insert an item at a specified index\n",
    "print(thislist)\n",
    "#Append items - add an item at the end of the list\n",
    "thislist.append(\"orange\")\n",
    "print(thislist)\n",
    "#extend list - append elements from another list use extend(method)\n",
    "list1 = [\"papaya\", \"pineapple\"]\n",
    "thislist.extend(list1)\n",
    "print(thislist)\n"
   ]
  },
  {
   "cell_type": "markdown",
   "metadata": {},
   "source": [
    "## Tuples"
   ]
  },
  {
   "cell_type": "code",
   "execution_count": null,
   "metadata": {},
   "outputs": [],
   "source": [
    "mytuple = (\"apple\", \"banana\", \"cherry\") #ordered and unchangeable\n",
    "#you can use a tuple() constructor to make a tuple\n",
    "#"
   ]
  },
  {
   "cell_type": "markdown",
   "metadata": {},
   "source": [
    "## Dictionaries"
   ]
  },
  {
   "cell_type": "code",
   "execution_count": 3,
   "metadata": {},
   "outputs": [
    {
     "name": "stdout",
     "output_type": "stream",
     "text": [
      "Ford\n",
      "3\n",
      "<class 'dict'>\n"
     ]
    }
   ],
   "source": [
    "thisdict = {\n",
    "  \"brand\": \"Ford\",\n",
    "  \"model\": \"Mustang\",\n",
    "  \"year\": 1964\n",
    "} #used to store data values in key, value pairs\n",
    "print(thisdict[\"brand\"])\n",
    "print(len(thisdict))\n",
    "print(type(thisdict))\n"
   ]
  },
  {
   "cell_type": "markdown",
   "metadata": {},
   "source": [
    "## The while loop"
   ]
  },
  {
   "cell_type": "code",
   "execution_count": 9,
   "metadata": {},
   "outputs": [
    {
     "name": "stdout",
     "output_type": "stream",
     "text": [
      "0\n",
      "1\n",
      "2\n"
     ]
    }
   ],
   "source": [
    "#executes a set of statement as long as a condition is true\n",
    "i = 0 #indexing variable\n",
    "while i < 5:\n",
    "    print(i)\n",
    "    i +=1\n",
    "    if i == 3:\n",
    "        break\n",
    "    continue"
   ]
  },
  {
   "cell_type": "markdown",
   "metadata": {},
   "source": [
    "## For Loops"
   ]
  },
  {
   "cell_type": "code",
   "execution_count": 15,
   "metadata": {},
   "outputs": [
    {
     "name": "stdout",
     "output_type": "stream",
     "text": [
      "apple\n",
      "red apple\n",
      "red banana\n",
      "red cherry\n",
      "big apple\n",
      "big banana\n",
      "big cherry\n",
      "tasty apple\n",
      "tasty banana\n",
      "tasty cherry\n"
     ]
    }
   ],
   "source": [
    "#iterates over a sequence(a list, a tuple, a dictionary, a set, or a string)\n",
    "fruits = [\"apple\", \"banana\", \"cherry\"]\n",
    "for x in fruits:\n",
    "    \n",
    "    if x == \"banana\":\n",
    "        break\n",
    "    \n",
    "    print(x)\n",
    "adj = [\"red\", \"big\", \"tasty\"] #nested loops\n",
    "fruits = [\"apple\", \"banana\", \"cherry\"]\n",
    "\n",
    "for x in adj:\n",
    "  for y in fruits:\n",
    "    print(x, y)"
   ]
  }
 ],
 "metadata": {
  "kernelspec": {
   "display_name": "Python 3",
   "language": "python",
   "name": "python3"
  },
  "language_info": {
   "codemirror_mode": {
    "name": "ipython",
    "version": 3
   },
   "file_extension": ".py",
   "mimetype": "text/x-python",
   "name": "python",
   "nbconvert_exporter": "python",
   "pygments_lexer": "ipython3",
   "version": "3.12.1"
  }
 },
 "nbformat": 4,
 "nbformat_minor": 2
}
