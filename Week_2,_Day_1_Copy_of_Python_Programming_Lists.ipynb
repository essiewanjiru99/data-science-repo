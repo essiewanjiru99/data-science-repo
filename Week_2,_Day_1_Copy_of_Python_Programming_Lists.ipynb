{
  "cells": [
    {
      "cell_type": "markdown",
      "metadata": {
        "id": "view-in-github",
        "colab_type": "text"
      },
      "source": [
        "<a href=\"https://colab.research.google.com/github/essiewanjiru99/data-science-repo/blob/main/Week_2%2C_Day_1_Copy_of_Python_Programming_Lists.ipynb\" target=\"_parent\"><img src=\"https://colab.research.google.com/assets/colab-badge.svg\" alt=\"Open In Colab\"/></a>"
      ]
    },
    {
      "cell_type": "markdown",
      "metadata": {
        "id": "wbJA7xUzEy9k"
      },
      "source": [
        "<font color=\"green\">*To start working on this notebook, or any other notebook that we will use in the Moringa Data Science Course, we will need to save our own copy of it. We can do this by clicking File > Save a Copy in Drive. We will then be able to make edits to our own copy of this notebook.*</font>"
      ]
    },
    {
      "cell_type": "markdown",
      "metadata": {
        "id": "gaWkCnZQ5Sbx"
      },
      "source": [
        "# Python Programming: Lists"
      ]
    },
    {
      "cell_type": "markdown",
      "metadata": {
        "id": "YfJpi7DB5b1G"
      },
      "source": [
        "## 1.0 Creating a List"
      ]
    },
    {
      "cell_type": "code",
      "execution_count": null,
      "metadata": {
        "colab": {
          "background_save": true,
          "base_uri": "https://localhost:8080/",
          "height": 34
        },
        "id": "S1JygPfZ6_LB",
        "outputId": "cd7d351b-8223-4f11-fdba-bc0d67e6e812"
      },
      "outputs": [
        {
          "name": "stdout",
          "output_type": "stream",
          "text": [
            "['bananas', 'grapes', 'mangoes']\n"
          ]
        }
      ],
      "source": [
        "# Example 1\n",
        "# Lists can be created by placing a sequence inside square brackets.\n",
        "# They are ordered and changeable and can also contain duplicate items.\n",
        "# We will start to create a list called fruits\n",
        "#\n",
        "fruits = [\"bananas\", \"grapes\", \"mangoes\"]\n",
        "print(fruits)\n",
        "\n",
        "# In python, elements in a list are referenced using indices. Indices (singular: index) are number used to tell the position of an elment in a list. The first element in  a list is assigned an index of 0.\n",
        "# For example in the list we created, bananas is at index 0 and mangoes is at index 2.\n",
        "# Indices are very important especially when we want to update, delete or access items in a list."
      ]
    },
    {
      "cell_type": "code",
      "execution_count": null,
      "metadata": {
        "colab": {
          "background_save": true,
          "base_uri": "https://localhost:8080/",
          "height": 34
        },
        "id": "VTtUQP6zzVDw",
        "outputId": "34a71de6-73a0-4742-a665-28694d157b60"
      },
      "outputs": [
        {
          "name": "stdout",
          "output_type": "stream",
          "text": [
            "['Victor Wanyama', 'Michael Olunga', 'McDonald Mariga']\n"
          ]
        }
      ],
      "source": [
        "# Example 2\n",
        "# We will also create a list called kenyan_football_players\n",
        "#\n",
        "kenyan_football_players = [\"Victor Wanyama\", \"Michael Olunga\", \"McDonald Mariga\"]\n",
        "print(kenyan_football_players)"
      ]
    },
    {
      "cell_type": "code",
      "execution_count": null,
      "metadata": {
        "colab": {
          "background_save": true,
          "base_uri": "https://localhost:8080/",
          "height": 34
        },
        "id": "dW9hKVZRzdJv",
        "outputId": "b71ff0ec-7871-44b7-a1b6-3bdcf333393c"
      },
      "outputs": [
        {
          "name": "stdout",
          "output_type": "stream",
          "text": [
            "['Nairobi', 'Mombasa', 'Kisumu']\n"
          ]
        }
      ],
      "source": [
        "# Example 3\n",
        "# And lastly, create a list called kenyan cities\n",
        "#\n",
        "kenyan_cities = [\"Nairobi\", \"Mombasa\", \"Kisumu\"]\n",
        "print(kenyan_cities)"
      ]
    },
    {
      "cell_type": "markdown",
      "metadata": {
        "id": "m6MMTVzP76zo"
      },
      "source": [
        "### <font color=\"green\">1.1 Challenges</font>"
      ]
    },
    {
      "cell_type": "code",
      "execution_count": null,
      "metadata": {
        "colab": {
          "base_uri": "https://localhost:8080/"
        },
        "id": "0dhSpupB72TX",
        "outputId": "63b74103-dc72-4265-ab61-8ee6185e8fc8"
      },
      "outputs": [
        {
          "output_type": "stream",
          "name": "stdout",
          "text": [
            "['Migori', 'Nakuru', 'Kiambu']\n"
          ]
        }
      ],
      "source": [
        "# Challenge 1:\n",
        "# Let's create a list of 3 counties in Kenya and then print out the list below;\n",
        "#\n",
        "counties = [\"Migori\", \"Nakuru\", \"Kiambu\"]\n",
        "print(counties)"
      ]
    },
    {
      "cell_type": "code",
      "execution_count": null,
      "metadata": {
        "colab": {
          "base_uri": "https://localhost:8080/"
        },
        "id": "yclsB_-Z74U6",
        "outputId": "03e156d7-a55b-43c2-923d-91db7c6bf720"
      },
      "outputs": [
        {
          "output_type": "stream",
          "name": "stdout",
          "text": [
            "['Mokgweetsi Masisi', 'Adama Barrow', 'Samia Suluhu', 'Moustafa Madbouly', 'William Ruto']\n"
          ]
        }
      ],
      "source": [
        "# Challenge 2:\n",
        "# Create a list of 5 African presidents and print out the list below;\n",
        "#\n",
        "african_presidents = [\"Mokgweetsi Masisi\", \"Adama Barrow\", \"Samia Suluhu\", \"Moustafa Madbouly\", \"William Ruto\"]\n",
        "print(african_presidents)"
      ]
    },
    {
      "cell_type": "code",
      "execution_count": null,
      "metadata": {
        "colab": {
          "base_uri": "https://localhost:8080/"
        },
        "id": "pjqd1Qqf8BRT",
        "outputId": "0e3df8b2-b3d3-4a76-d64c-3891fd8bb380"
      },
      "outputs": [
        {
          "output_type": "stream",
          "name": "stdout",
          "text": [
            "['John', 'Paul', 'Kushiee', 'Derrick', 'Tabitha']\n"
          ]
        }
      ],
      "source": [
        "# Challenge 3:\n",
        "# Create a list of 5 members of your TUK class and print out the list;\n",
        "#\n",
        "class_mates = [\"John\", \"Paul\", \"Kushiee\", \"Derrick\", \"Tabitha\"]\n",
        "print(class_mates)"
      ]
    },
    {
      "cell_type": "markdown",
      "metadata": {
        "id": "HKfD8HjY5cmv"
      },
      "source": [
        "## 1.2 Adding Elements to a List"
      ]
    },
    {
      "cell_type": "code",
      "execution_count": null,
      "metadata": {
        "colab": {
          "background_save": true,
          "base_uri": "https://localhost:8080/",
          "height": 34
        },
        "id": "TmyVQVnD7cO3",
        "outputId": "ac636556-5b72-4179-dd51-16b8d1f6143f"
      },
      "outputs": [
        {
          "name": "stdout",
          "output_type": "stream",
          "text": [
            "['Nairobi', 'Mombasa', 'Kisumu', 'Nakuru']\n"
          ]
        }
      ],
      "source": [
        "# Example 1\n",
        "# We use the append() item to add an element to a list as shown below:\n",
        "# Adding the city Nakuru to the kenyan_cities list\n",
        "#\n",
        "kenyan_cities.append(\"Nakuru\")\n",
        "print(kenyan_cities)"
      ]
    },
    {
      "cell_type": "code",
      "execution_count": null,
      "metadata": {
        "colab": {
          "background_save": true
        },
        "id": "Ut93O1NQ0UNa",
        "outputId": "aa4b6478-5913-4af6-eba4-08c6dc1a8d03"
      },
      "outputs": [
        {
          "ename": "NameError",
          "evalue": "name 'counties' is not defined",
          "output_type": "error",
          "traceback": [
            "\u001b[0;31m---------------------------------------------------------------------------\u001b[0m",
            "\u001b[0;31mNameError\u001b[0m                                 Traceback (most recent call last)",
            "\u001b[0;32m<ipython-input-8-417186ee0137>\u001b[0m in \u001b[0;36m<cell line: 5>\u001b[0;34m()\u001b[0m\n\u001b[1;32m      3\u001b[0m \u001b[0;31m# and print out the list as shown below;\u001b[0m\u001b[0;34m\u001b[0m\u001b[0;34m\u001b[0m\u001b[0m\n\u001b[1;32m      4\u001b[0m \u001b[0;31m#\u001b[0m\u001b[0;34m\u001b[0m\u001b[0;34m\u001b[0m\u001b[0m\n\u001b[0;32m----> 5\u001b[0;31m \u001b[0mcounties\u001b[0m\u001b[0;34m.\u001b[0m\u001b[0mappend\u001b[0m\u001b[0;34m(\u001b[0m\u001b[0;34m\"Turkana\"\u001b[0m\u001b[0;34m)\u001b[0m\u001b[0;34m\u001b[0m\u001b[0;34m\u001b[0m\u001b[0m\n\u001b[0m",
            "\u001b[0;31mNameError\u001b[0m: name 'counties' is not defined"
          ]
        }
      ],
      "source": [
        "# Example 2\n",
        "# We add the county Turkana to our counties list\n",
        "# and print out the list as shown below;\n",
        "#\n",
        "counties.append(\"Turkana\")"
      ]
    },
    {
      "cell_type": "code",
      "execution_count": null,
      "metadata": {
        "colab": {
          "background_save": true
        },
        "id": "b9OWSkyh0T-N"
      },
      "outputs": [],
      "source": [
        "# Example 3\n",
        "# Let's add the footballer Francis Kahata to the\n",
        "# kenyan_football_players list defined above and print out the list\n",
        "#\n",
        "kenyan_football_players.append('Francis Kahata')\n",
        "\n",
        "print(kenyan_football_players)"
      ]
    },
    {
      "cell_type": "markdown",
      "metadata": {
        "id": "qAB7efGz8GL9"
      },
      "source": [
        "### <font color=\"green\">1.2 Challenges</font>"
      ]
    },
    {
      "cell_type": "code",
      "execution_count": null,
      "metadata": {
        "colab": {
          "base_uri": "https://localhost:8080/"
        },
        "id": "wG25-7Hp8FaS",
        "outputId": "3d7eb07d-c264-4571-f056-bb5f635d02a3"
      },
      "outputs": [
        {
          "output_type": "stream",
          "name": "stdout",
          "text": [
            "['Migori', 'Nakuru', 'Kiambu', 'Nairobi']\n"
          ]
        }
      ],
      "source": [
        "# Challenge 1: Add a third county to the county list\n",
        "# that you defined above and then print out the list.\n",
        "#\n",
        "counties.append(\"Nairobi\")\n",
        "print(counties)"
      ]
    },
    {
      "cell_type": "code",
      "execution_count": null,
      "metadata": {
        "colab": {
          "base_uri": "https://localhost:8080/"
        },
        "id": "viPcTuNQ8Kmf",
        "outputId": "781d3b56-428b-4d51-ba2b-578040d4db75"
      },
      "outputs": [
        {
          "output_type": "stream",
          "name": "stdout",
          "text": [
            "['Mokgweetsi Masisi', 'Adama Barrow', 'Samia Suluhu', 'Moustafa Madbouly', 'William Ruto', 'Prithvirajsing Roopun', 'Paul Kagame']\n"
          ]
        }
      ],
      "source": [
        "# Challenge 2:\n",
        "# Add a fifth and a sixth president to the african presidents\n",
        "# you defined above and print out the list.\n",
        "#\n",
        "african_presidents.append(\"Prithvirajsing Roopun\")\n",
        "african_presidents.append(\"Paul Kagame\")\n",
        "print(african_presidents)"
      ]
    },
    {
      "cell_type": "code",
      "execution_count": null,
      "metadata": {
        "colab": {
          "base_uri": "https://localhost:8080/"
        },
        "id": "-xXlnKSX8MeE",
        "outputId": "e2c74055-b07c-4af8-85f2-e412f0c349f0"
      },
      "outputs": [
        {
          "output_type": "stream",
          "name": "stdout",
          "text": [
            "['John', 'Paul', 'Kushiee', 'Derrick', 'Tabitha', 'Essie', 'Mwaura']\n"
          ]
        }
      ],
      "source": [
        "# Challenge 3:\n",
        "# Add two more members to the moringa class list that\n",
        "# you defined above and print out the list.\n",
        "#\n",
        "class_mates.append(\"Essie\")\n",
        "class_mates.append(\"Mwaura\")\n",
        "print(class_mates)"
      ]
    },
    {
      "cell_type": "markdown",
      "metadata": {
        "id": "p4UR_FuR5qLx"
      },
      "source": [
        "## 1.3 Updating Elements in a List"
      ]
    },
    {
      "cell_type": "code",
      "execution_count": null,
      "metadata": {
        "colab": {
          "background_save": true
        },
        "id": "sOjwAQdu7q9Y"
      },
      "outputs": [],
      "source": [
        "# Example 1\n",
        "# The value of a specific item in a list can be changed by referring to the index number as shown;\n",
        "# Let's update the first element in the kenyan_cities list then print it out\n",
        "#\n",
        "kenyan_cities[1] = \"Kwale\"\n",
        "print(kenyan_cities)"
      ]
    },
    {
      "cell_type": "code",
      "execution_count": null,
      "metadata": {
        "colab": {
          "background_save": true
        },
        "id": "TA8RhFajBl-P"
      },
      "outputs": [],
      "source": [
        "# Example 2\n",
        "# Let's update the second element in the kenyan_football_players\n",
        "# list with Musa Mohammed then print out the list\n",
        "#\n",
        "kenyan_football_players[1] = 'Musa Mohammed'\n",
        "\n",
        "print(kenyan_football_players)"
      ]
    },
    {
      "cell_type": "code",
      "execution_count": null,
      "metadata": {
        "colab": {
          "background_save": true
        },
        "id": "7OfX19kCBl1b"
      },
      "outputs": [],
      "source": [
        "# Example 3\n",
        "# Let's update the third element in the moringa\n",
        "# class list with your name then print out the list\n",
        "\n",
        "Moringa_class[2] = 'Paul Mwaura'\n",
        "\n",
        "print(Moringa_class)"
      ]
    },
    {
      "cell_type": "markdown",
      "metadata": {
        "id": "H3Z5_lcs8XNH"
      },
      "source": [
        "### <font color=\"green\">1.3 Challenges</font>"
      ]
    },
    {
      "cell_type": "code",
      "execution_count": null,
      "metadata": {
        "colab": {
          "base_uri": "https://localhost:8080/"
        },
        "id": "dVQ1NNCm8QSb",
        "outputId": "a838607d-b5a9-4541-bea9-2d5bb627c4f1"
      },
      "outputs": [
        {
          "output_type": "stream",
          "name": "stdout",
          "text": [
            "['Migori', 'Mombasa', 'Kiambu', 'Nairobi']\n"
          ]
        }
      ],
      "source": [
        "# Challenge 1\n",
        "# Update the second county to the county list that\n",
        "# you defined above and then print out the list.\n",
        "# (NB: Update of choice)\n",
        "#\n",
        "counties[1] = \"Mombasa\"\n",
        "print(counties)"
      ]
    },
    {
      "cell_type": "code",
      "execution_count": null,
      "metadata": {
        "colab": {
          "base_uri": "https://localhost:8080/"
        },
        "id": "FhFJuVjq8Ros",
        "outputId": "9d961468-9af1-4fb2-8895-43072b40b6f0"
      },
      "outputs": [
        {
          "output_type": "stream",
          "name": "stdout",
          "text": [
            "['Mokgweetsi Masisi', 'Adama Barrow', 'Aziz Akhannouch', 'Jose Maria Neves', 'William Ruto', 'Prithvirajsing Roopun', 'Paul Kagame']\n"
          ]
        }
      ],
      "source": [
        "# Challenge 2\n",
        "# Update the third and fourth president of the african presidents\n",
        "# list that you defined above and then print out the list.\n",
        "# (NB: Update of choice)\n",
        "#\n",
        "african_presidents[2] = \"Aziz Akhannouch\"\n",
        "african_presidents[3] = \"Jose Maria Neves\"\n",
        "print(african_presidents)"
      ]
    },
    {
      "cell_type": "code",
      "execution_count": null,
      "metadata": {
        "colab": {
          "background_save": true
        },
        "id": "lsUfPEmI8TYI"
      },
      "outputs": [],
      "source": [
        "# Challenge 3\n",
        "# Update all items in your class list\n",
        "# that you defined above with a new list and then print out that list.\n",
        "#\n"
      ]
    },
    {
      "cell_type": "markdown",
      "metadata": {
        "id": "cCvsMHqK5fUn"
      },
      "source": [
        "## 1.4 Accessing Elements from a List"
      ]
    },
    {
      "cell_type": "code",
      "execution_count": null,
      "metadata": {
        "colab": {
          "background_save": true
        },
        "id": "pGn2Ei-L8lh4"
      },
      "outputs": [],
      "source": [
        "# Example 1\n",
        "# We can access the first item in the fruits list by doing the following\n",
        "#\n",
        "fruts_first_item = fruits[0]\n",
        "print(fruts_first_item)"
      ]
    },
    {
      "cell_type": "code",
      "execution_count": null,
      "metadata": {
        "colab": {
          "background_save": true
        },
        "id": "iTvwuuY219PO"
      },
      "outputs": [],
      "source": [
        "# Example 2\n",
        "# We can also access the 2nd item in the kenyan_football_players list by;\n",
        "#\n",
        "kenyan_football_players_second_item = kenyan_football_players[1]\n",
        "print(kenyan_football_players_second_item)"
      ]
    },
    {
      "cell_type": "code",
      "execution_count": null,
      "metadata": {
        "colab": {
          "background_save": true
        },
        "id": "lVAhEI_G2IAN"
      },
      "outputs": [],
      "source": [
        "# Example 3\n",
        "# We can access the third item in the moringa_class list also by\n",
        "#\n",
        "kenya_football_players_third_item = kenyan_football_players[2]\n",
        "print(kenya_football_players_third_item)"
      ]
    },
    {
      "cell_type": "markdown",
      "metadata": {
        "id": "1qG1ecRh8mC9"
      },
      "source": [
        "### <font color=\"green\">1.4 Challenges</font>"
      ]
    },
    {
      "cell_type": "code",
      "execution_count": null,
      "metadata": {
        "colab": {
          "base_uri": "https://localhost:8080/"
        },
        "id": "JVE1OqDH8pEK",
        "outputId": "1e4436a2-f861-417e-d804-e73ff6d37545"
      },
      "outputs": [
        {
          "output_type": "stream",
          "name": "stdout",
          "text": [
            "Orange\n"
          ]
        }
      ],
      "source": [
        "# Challenge 1\n",
        "# Let's access the second item in the fruits list below\n",
        "fruits = [\"Mango\", \"Orange\", \"Apple\", \"Berries\", \"Thorn Melon\", \"Water-melon\"]\n",
        "fruits_second_item = fruits[1]\n",
        "print(fruits_second_item)"
      ]
    },
    {
      "cell_type": "code",
      "execution_count": null,
      "metadata": {
        "colab": {
          "base_uri": "https://localhost:8080/"
        },
        "id": "Caul6cU18o9c",
        "outputId": "91978c8c-b924-48b2-cadb-ea3b4dfea7d4"
      },
      "outputs": [
        {
          "output_type": "stream",
          "name": "stdout",
          "text": [
            "Dennis Oliech\n"
          ]
        }
      ],
      "source": [
        "# Challenge 2\n",
        "# Let's access the fourth item in kenyan_football_players list below\n",
        "#\n",
        "kenyan_football_players = [\"Victor Wanyama\", \"McDonald Mariga\", \"McDonald Mariga\", \"Dennis Oliech\", \"Michael Olunga\", \"Michael Olunga\"]\n",
        "kenyan_football_players_fourth_item = kenyan_football_players[3]\n",
        "print(kenyan_football_players_fourth_item)"
      ]
    },
    {
      "cell_type": "code",
      "execution_count": null,
      "metadata": {
        "colab": {
          "base_uri": "https://localhost:8080/"
        },
        "id": "xjX0moYs8ooP",
        "outputId": "c944fbec-1c3e-4c7a-91d7-be92149051bf"
      },
      "outputs": [
        {
          "output_type": "stream",
          "name": "stdout",
          "text": [
            "Victor Wanyama\n"
          ]
        }
      ],
      "source": [
        "# Challenge 3\n",
        "# Let's access the first item in your class list below;\n",
        "#\n",
        "print(kenyan_football_players[0])"
      ]
    },
    {
      "cell_type": "markdown",
      "metadata": {
        "id": "Fs8XTeN45iFS"
      },
      "source": [
        "## 1.5 Removing Elements from a List"
      ]
    },
    {
      "cell_type": "code",
      "execution_count": null,
      "metadata": {
        "colab": {
          "background_save": true
        },
        "id": "mkNRpT2k8zbi"
      },
      "outputs": [],
      "source": [
        "# Example 1\n",
        "# Let's remove the first item from the fruits list as shown;\n",
        "#\n",
        "fruits.remove(\"bananas\")\n",
        "print(fruits)\n"
      ]
    },
    {
      "cell_type": "code",
      "execution_count": null,
      "metadata": {
        "colab": {
          "background_save": true
        },
        "id": "9EF5YrosFV5n"
      },
      "outputs": [],
      "source": [
        "# Example 2\n",
        "# Then remove the third item from the kenyan cities list as shown;\n",
        "#\n",
        "del kenyan_cities[2];\n",
        "print(kenyan_cities)"
      ]
    },
    {
      "cell_type": "code",
      "execution_count": null,
      "metadata": {
        "colab": {
          "background_save": true
        },
        "id": "-zwxINb9FVvE"
      },
      "outputs": [],
      "source": [
        "# Example 3\n",
        "# Let's remove the fourth item from counties list as shown;\n",
        "#\n",
        "del counties[3];\n",
        "print(counties)"
      ]
    },
    {
      "cell_type": "markdown",
      "metadata": {
        "id": "SJmtZJu48z-Q"
      },
      "source": [
        "### <font color=\"green\">1.5 Challenges</font>"
      ]
    },
    {
      "cell_type": "code",
      "execution_count": null,
      "metadata": {
        "colab": {
          "base_uri": "https://localhost:8080/"
        },
        "id": "d1AxSTu883KJ",
        "outputId": "555d0d21-2d8c-4199-d148-7b7df49b51c6"
      },
      "outputs": [
        {
          "output_type": "stream",
          "name": "stdout",
          "text": [
            "['McDonald Mariga', 'McDonald Mariga', 'Dennis Oliech', 'Michael Olunga', 'Michael Olunga']\n"
          ]
        }
      ],
      "source": [
        "# Challenge 1\n",
        "# Remove the first item from the kenya_football_players list\n",
        "# and print the list\n",
        "#\n",
        "del kenyan_football_players[0]\n",
        "print(kenyan_football_players)"
      ]
    },
    {
      "cell_type": "code",
      "execution_count": null,
      "metadata": {
        "colab": {
          "base_uri": "https://localhost:8080/"
        },
        "id": "s7iTn8tf83kI",
        "outputId": "5a40abd6-c1a3-44bf-bad3-502590ac9b2b"
      },
      "outputs": [
        {
          "output_type": "stream",
          "name": "stdout",
          "text": [
            "['Mango', 'Apple', 'Berries', 'Thorn Melon', 'Water-melon']\n"
          ]
        }
      ],
      "source": [
        "# Challenge 2\n",
        "# Remove the second item from the fruits list and print the list\n",
        "#\n",
        "del fruits[1]\n",
        "print(fruits)"
      ]
    },
    {
      "cell_type": "code",
      "execution_count": null,
      "metadata": {
        "colab": {
          "base_uri": "https://localhost:8080/"
        },
        "id": "EpEg6eWS83c4",
        "outputId": "b40541a5-43d6-416f-9755-3e62cb4e6bce"
      },
      "outputs": [
        {
          "output_type": "stream",
          "name": "stdout",
          "text": [
            "['Mokgweetsi Masisi', 'Adama Barrow', 'Aziz Akhannouch', 'Jose Maria Neves', 'William Ruto', 'Prithvirajsing Roopun']\n"
          ]
        }
      ],
      "source": [
        "# Challenge 3\n",
        "# Remove the last item from the african presidents list and print the list\n",
        "#\n",
        "del african_presidents[-1]\n",
        "print(african_presidents)"
      ]
    },
    {
      "cell_type": "markdown",
      "metadata": {
        "id": "QIPUN0KJ5mdp"
      },
      "source": [
        "## 1.6 Slicing a List"
      ]
    },
    {
      "cell_type": "code",
      "execution_count": null,
      "metadata": {
        "colab": {
          "base_uri": "https://localhost:8080/"
        },
        "id": "mX4ZZyjM89tX",
        "outputId": "0b631392-7538-4edc-fc32-30f920bb3d3a"
      },
      "outputs": [
        {
          "output_type": "stream",
          "name": "stdout",
          "text": [
            "['bananas', 'grapes', 'mangoes']\n"
          ]
        }
      ],
      "source": [
        "# Example 1\n",
        "# We can print the first two item of the fruits list by slicing and printing them as shown;\n",
        "# The syntax for slicing is start:stop\n",
        "# Start is the index at which we want to start our slice.\n",
        "# Stop is the index at which we want to stop just before finishing the slice. The slicing stops at index stop-1. For exampl, if stop is 2, then the slicing will stop at index (2-1)\n",
        "#\n",
        "fruits = [\"bananas\", \"grapes\", \"mangoes\",\"oranges\",\"pineapple\"]\n",
        "fruits1 = fruits[0:3]\n",
        "print(fruits1)\n",
        "\n"
      ]
    },
    {
      "cell_type": "code",
      "execution_count": null,
      "metadata": {
        "colab": {
          "background_save": true
        },
        "id": "HjMaEseYKTG_"
      },
      "outputs": [],
      "source": [
        "# Example 2\n",
        "# We can print the items from the 2nd item till the end by slicing and printing them as shown;\n",
        "#\n",
        "fruits2 = fruits[2:]\n",
        "print(fruits2)"
      ]
    },
    {
      "cell_type": "code",
      "execution_count": null,
      "metadata": {
        "colab": {
          "background_save": true
        },
        "id": "Vx32wP6_KS8E"
      },
      "outputs": [],
      "source": [
        "# Example 3\n",
        "# We can print items from beginning of the list to the third element in the fruits list as shown;\n",
        "#\n",
        "fruits3 = fruits[:-2]\n",
        "print(fruits3)"
      ]
    },
    {
      "cell_type": "markdown",
      "metadata": {
        "id": "5WwBTWk58-Nj"
      },
      "source": [
        "### <font color=\"green\">1.6 Challenges</font>"
      ]
    },
    {
      "cell_type": "code",
      "execution_count": null,
      "metadata": {
        "colab": {
          "background_save": true
        },
        "id": "aBfzUTyF9BSb"
      },
      "outputs": [],
      "source": [
        "# Challenge 1\n",
        "# Print the first two items of the kenyan_football_players list\n",
        "#\n",
        "first_two_players = kenyan_football_players[0:2]\n",
        "\n",
        "print(first_two_players)"
      ]
    },
    {
      "cell_type": "code",
      "execution_count": 1,
      "metadata": {
        "colab": {
          "base_uri": "https://localhost:8080/",
          "height": 211
        },
        "id": "Lrq8KFE49Bq5",
        "outputId": "c2a5c216-bf75-4383-ab69-24bdd0862836"
      },
      "outputs": [
        {
          "output_type": "error",
          "ename": "NameError",
          "evalue": "name 'counties' is not defined",
          "traceback": [
            "\u001b[0;31m---------------------------------------------------------------------------\u001b[0m",
            "\u001b[0;31mNameError\u001b[0m                                 Traceback (most recent call last)",
            "\u001b[0;32m<ipython-input-1-b66d2413317f>\u001b[0m in \u001b[0;36m<cell line: 4>\u001b[0;34m()\u001b[0m\n\u001b[1;32m      2\u001b[0m \u001b[0;31m# Print the last two items of the counties list\u001b[0m\u001b[0;34m\u001b[0m\u001b[0;34m\u001b[0m\u001b[0m\n\u001b[1;32m      3\u001b[0m \u001b[0;31m#\u001b[0m\u001b[0;34m\u001b[0m\u001b[0;34m\u001b[0m\u001b[0m\n\u001b[0;32m----> 4\u001b[0;31m \u001b[0mlast_two_counties\u001b[0m \u001b[0;34m=\u001b[0m \u001b[0mcounties\u001b[0m\u001b[0;34m[\u001b[0m\u001b[0;34m-\u001b[0m\u001b[0;36m2\u001b[0m\u001b[0;34m:\u001b[0m\u001b[0;34m]\u001b[0m\u001b[0;34m\u001b[0m\u001b[0;34m\u001b[0m\u001b[0m\n\u001b[0m\u001b[1;32m      5\u001b[0m \u001b[0;34m\u001b[0m\u001b[0m\n\u001b[1;32m      6\u001b[0m \u001b[0mprint\u001b[0m\u001b[0;34m(\u001b[0m\u001b[0mlast_two_counties\u001b[0m\u001b[0;34m)\u001b[0m\u001b[0;34m\u001b[0m\u001b[0;34m\u001b[0m\u001b[0m\n",
            "\u001b[0;31mNameError\u001b[0m: name 'counties' is not defined"
          ]
        }
      ],
      "source": [
        "# Challenge 2\n",
        "# Print the last two items of the counties list\n",
        "#\n",
        "last_two_counties = counties[-2:]\n",
        "\n",
        "print(last_two_counties)"
      ]
    },
    {
      "cell_type": "code",
      "execution_count": null,
      "metadata": {
        "colab": {
          "background_save": true
        },
        "id": "Smtu0V519Bke"
      },
      "outputs": [],
      "source": [
        "# Challenge 3\n",
        "# Print items from the beginning to the second items in the kenyan_cities list\n",
        "#\n",
        "first_two_cities = kenyan_cities[0:2]\n",
        "print(first_two_cities)"
      ]
    }
  ],
  "metadata": {
    "colab": {
      "collapsed_sections": [
        "YfJpi7DB5b1G",
        "m6MMTVzP76zo",
        "HKfD8HjY5cmv",
        "qAB7efGz8GL9",
        "p4UR_FuR5qLx",
        "H3Z5_lcs8XNH",
        "cCvsMHqK5fUn",
        "1qG1ecRh8mC9",
        "Fs8XTeN45iFS",
        "SJmtZJu48z-Q",
        "QIPUN0KJ5mdp",
        "5WwBTWk58-Nj"
      ],
      "provenance": [],
      "include_colab_link": true
    },
    "kernelspec": {
      "display_name": "Python 3",
      "name": "python3"
    }
  },
  "nbformat": 4,
  "nbformat_minor": 0
}