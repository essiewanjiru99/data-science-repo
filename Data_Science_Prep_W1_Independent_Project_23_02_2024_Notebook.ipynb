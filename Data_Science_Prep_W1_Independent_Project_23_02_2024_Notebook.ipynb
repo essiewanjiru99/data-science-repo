{
  "nbformat": 4,
  "nbformat_minor": 0,
  "metadata": {
    "colab": {
      "provenance": [],
      "include_colab_link": true
    },
    "kernelspec": {
      "name": "python3",
      "display_name": "Python 3"
    }
  },
  "cells": [
    {
      "cell_type": "markdown",
      "metadata": {
        "id": "view-in-github",
        "colab_type": "text"
      },
      "source": [
        "<a href=\"https://colab.research.google.com/github/essiewanjiru99/data-science-repo/blob/main/Data_Science_Prep_W1_Independent_Project_23_02_2024_Notebook.ipynb\" target=\"_parent\"><img src=\"https://colab.research.google.com/assets/colab-badge.svg\" alt=\"Open In Colab\"/></a>"
      ]
    },
    {
      "cell_type": "markdown",
      "metadata": {
        "id": "26tx4ML0qY-p"
      },
      "source": [
        "Python"
      ]
    },
    {
      "cell_type": "markdown",
      "metadata": {
        "id": "v0fo1VtsPesa"
      },
      "source": [
        "1. Take in two values from a user (both in pounds) then convert those values to kilograms."
      ]
    },
    {
      "cell_type": "code",
      "metadata": {
        "id": "f5_2Q9Y64AZU",
        "outputId": "ddaed2cd-9578-45db-de39-96cd29561873",
        "colab": {
          "base_uri": "https://localhost:8080/"
        }
      },
      "source": [
        "# The code loops twice where user input is requested twice.\n",
        "# The input is converted to kilograms\n",
        "#\n",
        "value1 = float(input(\"Enter value: \"))\n",
        "value2 = float(input(\"Enter value: \"))\n",
        "\n",
        "x = 0.45359237\n",
        "\n",
        "kg_value1 = x * value1\n",
        "kg_value2 = x * value2\n",
        "\n",
        "# Print value of kg_value1\n",
        "print(str(kg_value1) + \"kgs\")\n",
        "\n",
        "# Print value of kg_value1\n",
        "print(str(kg_value2) + \"kgs\")\n"
      ],
      "execution_count": 3,
      "outputs": [
        {
          "output_type": "stream",
          "name": "stdout",
          "text": [
            "Enter value: 5\n",
            "Enter value: 10\n",
            "2.2679618500000003kgs\n",
            "4.535923700000001kgs\n"
          ]
        }
      ]
    },
    {
      "cell_type": "markdown",
      "metadata": {
        "id": "yXh3y8CXPtdc"
      },
      "source": [
        "2. Perform the sum of the values."
      ]
    },
    {
      "cell_type": "code",
      "metadata": {
        "id": "eM0mxNDm8U27",
        "outputId": "1a7ab5fb-251a-41d0-9297-6bbbd13e6e74",
        "colab": {
          "base_uri": "https://localhost:8080/"
        }
      },
      "source": [
        "# The code sums up the result of the values in kgs.\n",
        "# Find the sum of kg_value1 and kg_value1 and assign it to 's'\n",
        "s = kg_value1 + kg_value2\n",
        "\n",
        "print(s)"
      ],
      "execution_count": 5,
      "outputs": [
        {
          "output_type": "stream",
          "name": "stdout",
          "text": [
            "6.80388555\n"
          ]
        }
      ]
    },
    {
      "cell_type": "markdown",
      "metadata": {
        "id": "PflgUXi_PxH8"
      },
      "source": [
        "3. Perform the average of the values."
      ]
    },
    {
      "cell_type": "code",
      "metadata": {
        "id": "L3b7Ljl1ADpH",
        "outputId": "8082ae8a-1bcb-422e-d2fd-85ad0b0ac338",
        "colab": {
          "base_uri": "https://localhost:8080/"
        }
      },
      "source": [
        "# The code calculates the average of the values in kgs\n",
        "# Find the average of kg_value1 and kg_value2\n",
        "average = (kg_value1 + kg_value2)/ 2\n",
        "\n",
        "print(average)"
      ],
      "execution_count": 6,
      "outputs": [
        {
          "output_type": "stream",
          "name": "stdout",
          "text": [
            "3.401942775\n"
          ]
        }
      ]
    },
    {
      "cell_type": "markdown",
      "metadata": {
        "id": "sNSoyjkqP0uR"
      },
      "source": [
        "4. Find the difference between both values."
      ]
    },
    {
      "cell_type": "code",
      "metadata": {
        "id": "PGDMnZZWNFDc",
        "outputId": "b79d7756-071e-48d1-9288-673b66917d9d",
        "colab": {
          "base_uri": "https://localhost:8080/"
        }
      },
      "source": [
        "# The code calculates the difference of the values in kgs\n",
        "# Find the difference between kg_value1 and kg_value2\n",
        "difference = kg_value2 - kg_value1\n",
        "print(difference)"
      ],
      "execution_count": 7,
      "outputs": [
        {
          "output_type": "stream",
          "name": "stdout",
          "text": [
            "2.2679618500000003\n"
          ]
        }
      ]
    },
    {
      "cell_type": "markdown",
      "metadata": {
        "id": "MhGRRk64P5fZ"
      },
      "source": [
        "5. Find the quotient when one value is divided by the other."
      ]
    },
    {
      "cell_type": "code",
      "metadata": {
        "id": "LpkEteupO4tu",
        "outputId": "e0a2c007-3aa0-4ea5-8f50-aed7a41342bf",
        "colab": {
          "base_uri": "https://localhost:8080/"
        }
      },
      "source": [
        "# The code calculates the quotient of the values in kgs\n",
        "quotient_1 = kg_value1/kg_value2\n",
        "quotient_2 = kg_value2/kg_value1\n",
        "\n",
        "# Print the output below\n",
        "print(\"Quotient 1 is: \" + str(quotient_1) + \" and quotient 2 is: \" + str(quotient_2))"
      ],
      "execution_count": 9,
      "outputs": [
        {
          "output_type": "stream",
          "name": "stdout",
          "text": [
            "Quotient 1 is: 0.5 and quotient 2 is: 2.0\n"
          ]
        }
      ]
    },
    {
      "cell_type": "markdown",
      "metadata": {
        "id": "dwcTh1eMP9dv"
      },
      "source": [
        "5. Determine and print out whether any of the numbers are even or add."
      ]
    },
    {
      "cell_type": "code",
      "metadata": {
        "id": "ZiBJ0SOoPGo6",
        "outputId": "a88e9a97-a2e7-42e6-c344-cb1ee8c15512",
        "colab": {
          "base_uri": "https://localhost:8080/"
        }
      },
      "source": [
        "# The code determines whether the values in kgs are Even or Odd\n",
        "# Using if else check if the value of kg_value1 is odd or even\n",
        "if kg_value1 % 2 == 0:\n",
        "  print(\"Value is even\")\n",
        "print(\"Value is Odd\")"
      ],
      "execution_count": 10,
      "outputs": [
        {
          "output_type": "stream",
          "name": "stdout",
          "text": [
            "Value is Odd\n"
          ]
        }
      ]
    },
    {
      "cell_type": "code",
      "metadata": {
        "id": "yEgNUz76PVsT"
      },
      "source": [],
      "execution_count": null,
      "outputs": []
    }
  ]
}